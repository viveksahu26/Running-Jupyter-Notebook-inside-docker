{
 "cells": [
  {
   "cell_type": "code",
   "execution_count": null,
   "id": "840f2133",
   "metadata": {},
   "outputs": [],
   "source": [
    "#TASK: To create a live streaming app using socket programming and cv2"
   ]
  },
  {
   "cell_type": "code",
   "execution_count": null,
   "id": "c808d363",
   "metadata": {},
   "outputs": [],
   "source": [
    "#SERVER"
   ]
  },
  {
   "cell_type": "code",
   "execution_count": null,
   "id": "a34516b6",
   "metadata": {},
   "outputs": [],
   "source": [
    "import socket"
   ]
  },
  {
   "cell_type": "code",
   "execution_count": null,
   "id": "cdf9e6e2",
   "metadata": {},
   "outputs": [],
   "source": [
    "# Socket Create\n",
    "server_socket = socket.socket(socket.AF_INET,socket.SOCK_STREAM)\n",
    "host_name  = socket.gethostname()\n",
    "host_ip = socket.gethostbyname(host_name)\n",
    "print('HOST IP:',host_ip)\n",
    "port = 9999\n",
    "socket_address = (host_ip,port)\n"
   ]
  },
  {
   "cell_type": "code",
   "execution_count": null,
   "id": "51712257",
   "metadata": {},
   "outputs": [],
   "source": [
    "import  cv2, pickle, struct"
   ]
  },
  {
   "cell_type": "code",
   "execution_count": null,
   "id": "dbc8c506",
   "metadata": {},
   "outputs": [],
   "source": [
    "# Socket Binding\n",
    "server_socket.bind(socket_address)"
   ]
  },
  {
   "cell_type": "code",
   "execution_count": null,
   "id": "cd468400",
   "metadata": {},
   "outputs": [],
   "source": [
    "# Socket Listen for only 1 request at a time\n",
    "server_socket.listen(2)\n",
    "print(\"SERVER IS LISTENING AT >> \",socket_address)"
   ]
  },
  {
   "cell_type": "code",
   "execution_count": null,
   "id": "4eaac0a1",
   "metadata": {},
   "outputs": [],
   "source": [
    "\n",
    "while True:\n",
    "    # Accept request from clients\n",
    "    client_socket,addr = server_socket.accept()\n",
    "    \n",
    "    print('Recieved request from --> ',addr)\n",
    "    if client_socket:\n",
    "        video = cv2.VideoCapture(0)\n",
    "        \n",
    "        while(video.isOpened()):\n",
    "            img,frame = video.read()\n",
    "            frame_into_bytes = pickle.dumps(frame)\n",
    "            frames = struct.pack(\"Q\",len(frame_into_bytes))+frame_into_bytes\n",
    "            client_socket.sendall(frames)\n",
    "            \n",
    "            cv2.imshow('TRANSMITTING VIDEO',frame)\n",
    "            key = cv2.waitKey(1) & 0xFF\n",
    "            if key  == ord('q'):\n",
    "                client_socket.close()\n",
    "        \n",
    "        \n",
    "        \n",
    "  "
   ]
  },
  {
   "cell_type": "code",
   "execution_count": null,
   "id": "2bae4385",
   "metadata": {},
   "outputs": [],
   "source": []
  },
  {
   "cell_type": "code",
   "execution_count": null,
   "id": "4928a702",
   "metadata": {},
   "outputs": [],
   "source": []
  },
  {
   "cell_type": "code",
   "execution_count": null,
   "id": "2fae4e39",
   "metadata": {},
   "outputs": [],
   "source": [
    "\n"
   ]
  },
  {
   "cell_type": "code",
   "execution_count": null,
   "id": "a5b45cfe",
   "metadata": {},
   "outputs": [],
   "source": []
  }
 ],
 "metadata": {
  "kernelspec": {
   "display_name": "Python 3",
   "language": "python",
   "name": "python3"
  },
  "language_info": {
   "codemirror_mode": {
    "name": "ipython",
    "version": 3
   },
   "file_extension": ".py",
   "mimetype": "text/x-python",
   "name": "python",
   "nbconvert_exporter": "python",
   "pygments_lexer": "ipython3",
   "version": "3.8.8"
  }
 },
 "nbformat": 4,
 "nbformat_minor": 5
}
