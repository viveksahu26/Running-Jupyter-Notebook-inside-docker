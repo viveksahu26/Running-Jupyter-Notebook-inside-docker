{
 "cells": [
  {
   "cell_type": "code",
   "execution_count": 1,
   "metadata": {},
   "outputs": [],
   "source": [
    "#TASK:1 Create image by yourself Using Python Code"
   ]
  },
  {
   "cell_type": "code",
   "execution_count": 2,
   "metadata": {},
   "outputs": [],
   "source": [
    "import cv2\n",
    "import numpy as np"
   ]
  },
  {
   "cell_type": "code",
   "execution_count": 3,
   "metadata": {},
   "outputs": [],
   "source": [
    "dog = np.zeros((400,400,3))"
   ]
  },
  {
   "cell_type": "code",
   "execution_count": 4,
   "metadata": {},
   "outputs": [],
   "source": [
    "cv2.imshow(\"dog\", dog)\n",
    "cv2.waitKey()\n",
    "cv2.destroyAllWindows()"
   ]
  },
  {
   "cell_type": "code",
   "execution_count": 5,
   "metadata": {},
   "outputs": [],
   "source": [
    "#Whole face\n",
    "dog[50:150, 50:150]= [0,0,256]\n",
    "#Left Eye\n",
    "dog[70:90, 70:90 ] = [0,255,255]\n",
    "#Right Eye\n",
    "dog[70:90, 110:130] = [0,255,255]\n",
    "#Right ear\n",
    "dog[50:60, 10:50] = [256,0,0]\n",
    "#Left Ear\n",
    "dog[50:60, 150:190] = [256,0,0]\n",
    "#Mouth\n",
    "dog[110:130, 90:110] = [0,255,255]\n",
    "#Neck\n",
    "dog[150:180, 90:110] = [0,256,0]\n",
    "#Stomach/body\n",
    "dog[180:280, 60:300] = [0,255,255]\n",
    "#Left leg-1\n",
    "dog[280:330, 100:120] = [0,0,256]\n",
    "#Right leg-2\n",
    "dog[280:330, 280:300] = [0,0,256]\n",
    "#Right Leg-1\n",
    "dog[280:330, 240:260] = [0,0,256]\n",
    "#Left Leg-2\n",
    "dog[280:330, 60:80] = [0,0,256]\n",
    "\n",
    "# Long Tail\n",
    "dog[180:190, 300:350] = [0,0,256]\n",
    "#Up Tail\n",
    "dog[160:190, 340:350] = [0,0,256]\n",
    "#Down Tail\n",
    "# dog[180:210, 340:350] = [0,0,256]\n",
    "\n",
    "\n"
   ]
  },
  {
   "cell_type": "code",
   "execution_count": 6,
   "metadata": {},
   "outputs": [],
   "source": [
    "while True:\n",
    "    cv2.imshow(\"dog\", dog)\n",
    "    if cv2.waitKey(10) == 13:\n",
    "        break;\n",
    "cv2.destroyAllWindows()"
   ]
  },
  {
   "cell_type": "code",
   "execution_count": null,
   "metadata": {},
   "outputs": [],
   "source": []
  },
  {
   "cell_type": "code",
   "execution_count": null,
   "metadata": {},
   "outputs": [],
   "source": []
  },
  {
   "cell_type": "code",
   "execution_count": 7,
   "metadata": {},
   "outputs": [],
   "source": [
    "#TASK:2 Take image crop some part of both image and swap it. "
   ]
  },
  {
   "cell_type": "code",
   "execution_count": 8,
   "metadata": {},
   "outputs": [],
   "source": [
    "import  cv2\n",
    "image3 = cv2.imread('3.png')\n",
    "cv2.imshow(\"image1\", image3)\n",
    "cv2.waitKey()\n",
    "cv2.destroyAllWindows()\n",
    "image3.shape\n",
    "\n",
    "# CROPPING THE PHOTO OF DONKEY\n",
    "crop1 = image3[150:500, 100:600]\n",
    "cv2.imshow(\"image1\", crop1)\n",
    "cv2.waitKey()\n",
    "cv2.destroyAllWindows()\n",
    "\n",
    "#REPLACING SCIENTIST PIC WITH DONKEY\n",
    "image3[150:500,900:1400] = crop1\n",
    "cv2.imshow(\"image1\", image3)\n",
    "cv2.waitKey()\n",
    "cv2.destroyAllWindows()\n",
    "image4 = cv2.imread('3.png')\n",
    "\n",
    "#CROPPING SCIENTISTS PIC\n",
    "crop2 = image4[150:600,900:1400 ]\n",
    "cv2.imshow(\"image1\", crop2)\n",
    "cv2.waitKey()\n",
    "cv2.destroyAllWindows()\n",
    "\n",
    "# REPLACING DONKEY PIC WITH SCIENTISTS\n",
    "image3[100:550, 69:569] = crop2\n",
    "cv2.imshow(\"image1\", image3)\n",
    "cv2.waitKey()\n",
    "cv2.destroyAllWindows()"
   ]
  },
  {
   "cell_type": "code",
   "execution_count": null,
   "metadata": {},
   "outputs": [],
   "source": []
  },
  {
   "cell_type": "code",
   "execution_count": 9,
   "metadata": {},
   "outputs": [],
   "source": [
    "#Task:3 Take 2 image and combine it to form single image. For example collage "
   ]
  },
  {
   "cell_type": "code",
   "execution_count": 10,
   "metadata": {},
   "outputs": [],
   "source": [
    "cr1 = cv2.imread(\"cr7.jpg\")\n",
    "ms = cv2.imread(\"ms10.jpg\")"
   ]
  },
  {
   "cell_type": "code",
   "execution_count": 11,
   "metadata": {},
   "outputs": [],
   "source": [
    "cv2.imshow(\"cr7\", cr1)\n",
    "cv2.waitKey() \n",
    "cv2.destroyAllWindows()"
   ]
  },
  {
   "cell_type": "code",
   "execution_count": 12,
   "metadata": {},
   "outputs": [],
   "source": [
    "cv2.imshow(\"cr7\", ms )\n",
    "cv2.waitKey() \n",
    "cv2.destroyAllWindows()"
   ]
  },
  {
   "cell_type": "code",
   "execution_count": 13,
   "metadata": {},
   "outputs": [],
   "source": [
    "cr1 = cr1[:400, 0:500]"
   ]
  },
  {
   "cell_type": "code",
   "execution_count": 14,
   "metadata": {},
   "outputs": [],
   "source": [
    "ms = ms[:400, 0:500]"
   ]
  },
  {
   "cell_type": "code",
   "execution_count": 15,
   "metadata": {},
   "outputs": [],
   "source": [
    "import numpy"
   ]
  },
  {
   "cell_type": "code",
   "execution_count": 16,
   "metadata": {},
   "outputs": [],
   "source": [
    "cr3 = numpy.vstack((cr1,ms))"
   ]
  },
  {
   "cell_type": "code",
   "execution_count": 17,
   "metadata": {},
   "outputs": [],
   "source": [
    "cv2.imshow(\"cr7\", cr3 )\n",
    "cv2.waitKey() \n",
    "cv2.destroyAllWindows()"
   ]
  },
  {
   "cell_type": "code",
   "execution_count": null,
   "metadata": {},
   "outputs": [],
   "source": []
  },
  {
   "cell_type": "code",
   "execution_count": null,
   "metadata": {},
   "outputs": [],
   "source": []
  }
 ],
 "metadata": {
  "kernelspec": {
   "display_name": "Python 3",
   "language": "python",
   "name": "python3"
  },
  "language_info": {
   "codemirror_mode": {
    "name": "ipython",
    "version": 3
   },
   "file_extension": ".py",
   "mimetype": "text/x-python",
   "name": "python",
   "nbconvert_exporter": "python",
   "pygments_lexer": "ipython3",
   "version": "3.8.8"
  }
 },
 "nbformat": 4,
 "nbformat_minor": 4
}
